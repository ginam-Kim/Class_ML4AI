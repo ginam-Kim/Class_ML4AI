{
  "nbformat": 4,
  "nbformat_minor": 0,
  "metadata": {
    "colab": {
      "provenance": [],
      "authorship_tag": "ABX9TyMorvSIGHekOWru57Xd344a",
      "include_colab_link": true
    },
    "kernelspec": {
      "name": "python3",
      "display_name": "Python 3"
    },
    "language_info": {
      "name": "python"
    }
  },
  "cells": [
    {
      "cell_type": "markdown",
      "metadata": {
        "id": "view-in-github",
        "colab_type": "text"
      },
      "source": [
        "<a href=\"https://colab.research.google.com/github/ginam-Kim/class_ml4ai/blob/main/practice/practice.ipynb\" target=\"_parent\"><img src=\"https://colab.research.google.com/assets/colab-badge.svg\" alt=\"Open In Colab\"/></a>"
      ]
    },
    {
      "cell_type": "code",
      "execution_count": 1,
      "metadata": {
        "id": "StLU25tS54T4",
        "colab": {
          "base_uri": "https://localhost:8080/"
        },
        "outputId": "e1a21cc7-6572-4a81-8567-4e36feca9205"
      },
      "outputs": [
        {
          "output_type": "stream",
          "name": "stdout",
          "text": [
            "hello\n"
          ]
        }
      ],
      "source": [
        "print('hello')"
      ]
    },
    {
      "cell_type": "markdown",
      "source": [
        "# markdown"
      ],
      "metadata": {
        "id": "j4fJ_dX4OaCy"
      }
    },
    {
      "cell_type": "markdown",
      "source": [
        "## markdown"
      ],
      "metadata": {
        "id": "0s4iGxn9Ogyz"
      }
    },
    {
      "cell_type": "markdown",
      "source": [
        "### markdown"
      ],
      "metadata": {
        "id": "k5T_ZQkQOgpn"
      }
    },
    {
      "cell_type": "markdown",
      "source": [
        "markdown"
      ],
      "metadata": {
        "id": "HN1QEIxoOgiX"
      }
    },
    {
      "cell_type": "code",
      "source": [],
      "metadata": {
        "id": "kLH4vyY_Ok96"
      },
      "execution_count": null,
      "outputs": []
    }
  ]
}